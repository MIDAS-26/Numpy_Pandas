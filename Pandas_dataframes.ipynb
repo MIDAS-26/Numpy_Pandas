{
 "cells": [
  {
   "cell_type": "code",
   "execution_count": 1,
   "source": [
    "import numpy as np\r\n",
    "import pandas as pd"
   ],
   "outputs": [],
   "metadata": {}
  },
  {
   "cell_type": "code",
   "execution_count": 2,
   "source": [
    "#to get the same random numbers we do the following\r\n",
    "from numpy.random import randn\r\n",
    "np.random.seed(101)"
   ],
   "outputs": [],
   "metadata": {}
  },
  {
   "cell_type": "code",
   "execution_count": 3,
   "source": [
    "#using DataFrame()\r\n",
    "df = pd.DataFrame(randn(5,4), ['a','b','c','d','e'], ['w','x','y','z'])#DataFrame(data, rows/index, columns)\r\n",
    "df"
   ],
   "outputs": [
    {
     "output_type": "execute_result",
     "data": {
      "text/html": [
       "<div>\n",
       "<style scoped>\n",
       "    .dataframe tbody tr th:only-of-type {\n",
       "        vertical-align: middle;\n",
       "    }\n",
       "\n",
       "    .dataframe tbody tr th {\n",
       "        vertical-align: top;\n",
       "    }\n",
       "\n",
       "    .dataframe thead th {\n",
       "        text-align: right;\n",
       "    }\n",
       "</style>\n",
       "<table border=\"1\" class=\"dataframe\">\n",
       "  <thead>\n",
       "    <tr style=\"text-align: right;\">\n",
       "      <th></th>\n",
       "      <th>w</th>\n",
       "      <th>x</th>\n",
       "      <th>y</th>\n",
       "      <th>z</th>\n",
       "    </tr>\n",
       "  </thead>\n",
       "  <tbody>\n",
       "    <tr>\n",
       "      <th>a</th>\n",
       "      <td>2.706850</td>\n",
       "      <td>0.628133</td>\n",
       "      <td>0.907969</td>\n",
       "      <td>0.503826</td>\n",
       "    </tr>\n",
       "    <tr>\n",
       "      <th>b</th>\n",
       "      <td>0.651118</td>\n",
       "      <td>-0.319318</td>\n",
       "      <td>-0.848077</td>\n",
       "      <td>0.605965</td>\n",
       "    </tr>\n",
       "    <tr>\n",
       "      <th>c</th>\n",
       "      <td>-2.018168</td>\n",
       "      <td>0.740122</td>\n",
       "      <td>0.528813</td>\n",
       "      <td>-0.589001</td>\n",
       "    </tr>\n",
       "    <tr>\n",
       "      <th>d</th>\n",
       "      <td>0.188695</td>\n",
       "      <td>-0.758872</td>\n",
       "      <td>-0.933237</td>\n",
       "      <td>0.955057</td>\n",
       "    </tr>\n",
       "    <tr>\n",
       "      <th>e</th>\n",
       "      <td>0.190794</td>\n",
       "      <td>1.978757</td>\n",
       "      <td>2.605967</td>\n",
       "      <td>0.683509</td>\n",
       "    </tr>\n",
       "  </tbody>\n",
       "</table>\n",
       "</div>"
      ],
      "text/plain": [
       "          w         x         y         z\n",
       "a  2.706850  0.628133  0.907969  0.503826\n",
       "b  0.651118 -0.319318 -0.848077  0.605965\n",
       "c -2.018168  0.740122  0.528813 -0.589001\n",
       "d  0.188695 -0.758872 -0.933237  0.955057\n",
       "e  0.190794  1.978757  2.605967  0.683509"
      ]
     },
     "metadata": {},
     "execution_count": 3
    }
   ],
   "metadata": {}
  },
  {
   "cell_type": "code",
   "execution_count": 4,
   "source": [
    "#calling one or more columns from dataframe\r\n",
    "print(df['w']) #if a single column is caled, then a series is returned\r\n",
    "print(df[['w','x']]) #if multiple columns are called, then a dataframe is returned"
   ],
   "outputs": [
    {
     "output_type": "stream",
     "name": "stdout",
     "text": [
      "a    2.706850\n",
      "b    0.651118\n",
      "c   -2.018168\n",
      "d    0.188695\n",
      "e    0.190794\n",
      "Name: w, dtype: float64\n",
      "          w         x\n",
      "a  2.706850  0.628133\n",
      "b  0.651118 -0.319318\n",
      "c -2.018168  0.740122\n",
      "d  0.188695 -0.758872\n",
      "e  0.190794  1.978757\n"
     ]
    }
   ],
   "metadata": {}
  },
  {
   "cell_type": "code",
   "execution_count": 5,
   "source": [
    "#calling one or more rows form dataframe using loc[](name based) or iloc[](index based)\r\n",
    "#if a single row is called then a series is returned\r\n",
    "print(df.loc['a'])\r\n",
    "print(df.iloc[0])\r\n"
   ],
   "outputs": [
    {
     "output_type": "stream",
     "name": "stdout",
     "text": [
      "w    2.706850\n",
      "x    0.628133\n",
      "y    0.907969\n",
      "z    0.503826\n",
      "Name: a, dtype: float64\n",
      "w    2.706850\n",
      "x    0.628133\n",
      "y    0.907969\n",
      "z    0.503826\n",
      "Name: a, dtype: float64\n"
     ]
    }
   ],
   "metadata": {}
  },
  {
   "cell_type": "code",
   "execution_count": 6,
   "source": [
    "#to call a specific location/cell\r\n",
    "df.loc['a','y']"
   ],
   "outputs": [
    {
     "output_type": "execute_result",
     "data": {
      "text/plain": [
       "0.9079694464765431"
      ]
     },
     "metadata": {},
     "execution_count": 6
    }
   ],
   "metadata": {}
  },
  {
   "cell_type": "code",
   "execution_count": 7,
   "source": [
    "#to call certain rows and columns\r\n",
    "df.loc[['a','e'], ['w','z']]"
   ],
   "outputs": [
    {
     "output_type": "execute_result",
     "data": {
      "text/html": [
       "<div>\n",
       "<style scoped>\n",
       "    .dataframe tbody tr th:only-of-type {\n",
       "        vertical-align: middle;\n",
       "    }\n",
       "\n",
       "    .dataframe tbody tr th {\n",
       "        vertical-align: top;\n",
       "    }\n",
       "\n",
       "    .dataframe thead th {\n",
       "        text-align: right;\n",
       "    }\n",
       "</style>\n",
       "<table border=\"1\" class=\"dataframe\">\n",
       "  <thead>\n",
       "    <tr style=\"text-align: right;\">\n",
       "      <th></th>\n",
       "      <th>w</th>\n",
       "      <th>z</th>\n",
       "    </tr>\n",
       "  </thead>\n",
       "  <tbody>\n",
       "    <tr>\n",
       "      <th>a</th>\n",
       "      <td>2.706850</td>\n",
       "      <td>0.503826</td>\n",
       "    </tr>\n",
       "    <tr>\n",
       "      <th>e</th>\n",
       "      <td>0.190794</td>\n",
       "      <td>0.683509</td>\n",
       "    </tr>\n",
       "  </tbody>\n",
       "</table>\n",
       "</div>"
      ],
      "text/plain": [
       "          w         z\n",
       "a  2.706850  0.503826\n",
       "e  0.190794  0.683509"
      ]
     },
     "metadata": {},
     "execution_count": 7
    }
   ],
   "metadata": {}
  },
  {
   "cell_type": "code",
   "execution_count": 8,
   "source": [
    "#creating a new column in an existing dataframe\r\n",
    "df['new'] = df['y'] + df['z']\r\n",
    "df"
   ],
   "outputs": [
    {
     "output_type": "execute_result",
     "data": {
      "text/html": [
       "<div>\n",
       "<style scoped>\n",
       "    .dataframe tbody tr th:only-of-type {\n",
       "        vertical-align: middle;\n",
       "    }\n",
       "\n",
       "    .dataframe tbody tr th {\n",
       "        vertical-align: top;\n",
       "    }\n",
       "\n",
       "    .dataframe thead th {\n",
       "        text-align: right;\n",
       "    }\n",
       "</style>\n",
       "<table border=\"1\" class=\"dataframe\">\n",
       "  <thead>\n",
       "    <tr style=\"text-align: right;\">\n",
       "      <th></th>\n",
       "      <th>w</th>\n",
       "      <th>x</th>\n",
       "      <th>y</th>\n",
       "      <th>z</th>\n",
       "      <th>new</th>\n",
       "    </tr>\n",
       "  </thead>\n",
       "  <tbody>\n",
       "    <tr>\n",
       "      <th>a</th>\n",
       "      <td>2.706850</td>\n",
       "      <td>0.628133</td>\n",
       "      <td>0.907969</td>\n",
       "      <td>0.503826</td>\n",
       "      <td>1.411795</td>\n",
       "    </tr>\n",
       "    <tr>\n",
       "      <th>b</th>\n",
       "      <td>0.651118</td>\n",
       "      <td>-0.319318</td>\n",
       "      <td>-0.848077</td>\n",
       "      <td>0.605965</td>\n",
       "      <td>-0.242112</td>\n",
       "    </tr>\n",
       "    <tr>\n",
       "      <th>c</th>\n",
       "      <td>-2.018168</td>\n",
       "      <td>0.740122</td>\n",
       "      <td>0.528813</td>\n",
       "      <td>-0.589001</td>\n",
       "      <td>-0.060187</td>\n",
       "    </tr>\n",
       "    <tr>\n",
       "      <th>d</th>\n",
       "      <td>0.188695</td>\n",
       "      <td>-0.758872</td>\n",
       "      <td>-0.933237</td>\n",
       "      <td>0.955057</td>\n",
       "      <td>0.021819</td>\n",
       "    </tr>\n",
       "    <tr>\n",
       "      <th>e</th>\n",
       "      <td>0.190794</td>\n",
       "      <td>1.978757</td>\n",
       "      <td>2.605967</td>\n",
       "      <td>0.683509</td>\n",
       "      <td>3.289476</td>\n",
       "    </tr>\n",
       "  </tbody>\n",
       "</table>\n",
       "</div>"
      ],
      "text/plain": [
       "          w         x         y         z       new\n",
       "a  2.706850  0.628133  0.907969  0.503826  1.411795\n",
       "b  0.651118 -0.319318 -0.848077  0.605965 -0.242112\n",
       "c -2.018168  0.740122  0.528813 -0.589001 -0.060187\n",
       "d  0.188695 -0.758872 -0.933237  0.955057  0.021819\n",
       "e  0.190794  1.978757  2.605967  0.683509  3.289476"
      ]
     },
     "metadata": {},
     "execution_count": 8
    }
   ],
   "metadata": {}
  },
  {
   "cell_type": "code",
   "execution_count": 9,
   "source": [
    "#using drop() to drop columns or rows of a dataframe\r\n",
    "print(df.drop('new', axis=1)) #column/row name, axis=0 for row/1 for column, inplace=False by default which means the og dataframe is not affected by the drop(), if you want to drop() from the og dataframe too, then use inplace=True\r\n",
    "print(df)"
   ],
   "outputs": [
    {
     "output_type": "stream",
     "name": "stdout",
     "text": [
      "          w         x         y         z\n",
      "a  2.706850  0.628133  0.907969  0.503826\n",
      "b  0.651118 -0.319318 -0.848077  0.605965\n",
      "c -2.018168  0.740122  0.528813 -0.589001\n",
      "d  0.188695 -0.758872 -0.933237  0.955057\n",
      "e  0.190794  1.978757  2.605967  0.683509\n",
      "          w         x         y         z       new\n",
      "a  2.706850  0.628133  0.907969  0.503826  1.411795\n",
      "b  0.651118 -0.319318 -0.848077  0.605965 -0.242112\n",
      "c -2.018168  0.740122  0.528813 -0.589001 -0.060187\n",
      "d  0.188695 -0.758872 -0.933237  0.955057  0.021819\n",
      "e  0.190794  1.978757  2.605967  0.683509  3.289476\n"
     ]
    }
   ],
   "metadata": {}
  },
  {
   "cell_type": "code",
   "execution_count": 10,
   "source": [
    "df.drop('new', axis=1, inplace=True)\r\n",
    "df"
   ],
   "outputs": [
    {
     "output_type": "execute_result",
     "data": {
      "text/html": [
       "<div>\n",
       "<style scoped>\n",
       "    .dataframe tbody tr th:only-of-type {\n",
       "        vertical-align: middle;\n",
       "    }\n",
       "\n",
       "    .dataframe tbody tr th {\n",
       "        vertical-align: top;\n",
       "    }\n",
       "\n",
       "    .dataframe thead th {\n",
       "        text-align: right;\n",
       "    }\n",
       "</style>\n",
       "<table border=\"1\" class=\"dataframe\">\n",
       "  <thead>\n",
       "    <tr style=\"text-align: right;\">\n",
       "      <th></th>\n",
       "      <th>w</th>\n",
       "      <th>x</th>\n",
       "      <th>y</th>\n",
       "      <th>z</th>\n",
       "    </tr>\n",
       "  </thead>\n",
       "  <tbody>\n",
       "    <tr>\n",
       "      <th>a</th>\n",
       "      <td>2.706850</td>\n",
       "      <td>0.628133</td>\n",
       "      <td>0.907969</td>\n",
       "      <td>0.503826</td>\n",
       "    </tr>\n",
       "    <tr>\n",
       "      <th>b</th>\n",
       "      <td>0.651118</td>\n",
       "      <td>-0.319318</td>\n",
       "      <td>-0.848077</td>\n",
       "      <td>0.605965</td>\n",
       "    </tr>\n",
       "    <tr>\n",
       "      <th>c</th>\n",
       "      <td>-2.018168</td>\n",
       "      <td>0.740122</td>\n",
       "      <td>0.528813</td>\n",
       "      <td>-0.589001</td>\n",
       "    </tr>\n",
       "    <tr>\n",
       "      <th>d</th>\n",
       "      <td>0.188695</td>\n",
       "      <td>-0.758872</td>\n",
       "      <td>-0.933237</td>\n",
       "      <td>0.955057</td>\n",
       "    </tr>\n",
       "    <tr>\n",
       "      <th>e</th>\n",
       "      <td>0.190794</td>\n",
       "      <td>1.978757</td>\n",
       "      <td>2.605967</td>\n",
       "      <td>0.683509</td>\n",
       "    </tr>\n",
       "  </tbody>\n",
       "</table>\n",
       "</div>"
      ],
      "text/plain": [
       "          w         x         y         z\n",
       "a  2.706850  0.628133  0.907969  0.503826\n",
       "b  0.651118 -0.319318 -0.848077  0.605965\n",
       "c -2.018168  0.740122  0.528813 -0.589001\n",
       "d  0.188695 -0.758872 -0.933237  0.955057\n",
       "e  0.190794  1.978757  2.605967  0.683509"
      ]
     },
     "metadata": {},
     "execution_count": 10
    }
   ],
   "metadata": {}
  },
  {
   "cell_type": "code",
   "execution_count": 12,
   "source": [
    "print(df.drop('e', axis=0))#axis=0 is default but still have mentioned it here\r\n",
    "print(df)"
   ],
   "outputs": [
    {
     "output_type": "stream",
     "name": "stdout",
     "text": [
      "          w         x         y         z\n",
      "a  2.706850  0.628133  0.907969  0.503826\n",
      "b  0.651118 -0.319318 -0.848077  0.605965\n",
      "c -2.018168  0.740122  0.528813 -0.589001\n",
      "d  0.188695 -0.758872 -0.933237  0.955057\n",
      "          w         x         y         z\n",
      "a  2.706850  0.628133  0.907969  0.503826\n",
      "b  0.651118 -0.319318 -0.848077  0.605965\n",
      "c -2.018168  0.740122  0.528813 -0.589001\n",
      "d  0.188695 -0.758872 -0.933237  0.955057\n",
      "e  0.190794  1.978757  2.605967  0.683509\n"
     ]
    }
   ],
   "metadata": {}
  },
  {
   "cell_type": "code",
   "execution_count": 15,
   "source": [
    "#conditional selection is same as in numpy\r\n",
    "#1\r\n",
    "print(df > 0)\r\n",
    "\r\n",
    "                    #in 1,2 it returns boolean value dataframe\r\n",
    "\r\n",
    "#2\r\n",
    "booldf = df > 0\r\n",
    "print(booldf)\r\n",
    "\r\n",
    "#3\r\n",
    "print(df[booldf])\r\n",
    "\r\n",
    "                    #in 3,4 it returns values of the cells in which the conditionn is true and NaN in which it's false\r\n",
    "\r\n",
    "#4\r\n",
    "print(df[df>0])"
   ],
   "outputs": [
    {
     "output_type": "stream",
     "name": "stdout",
     "text": [
      "       w      x      y      z\n",
      "a   True   True   True   True\n",
      "b   True  False  False   True\n",
      "c  False   True   True  False\n",
      "d   True  False  False   True\n",
      "e   True   True   True   True\n",
      "       w      x      y      z\n",
      "a   True   True   True   True\n",
      "b   True  False  False   True\n",
      "c  False   True   True  False\n",
      "d   True  False  False   True\n",
      "e   True   True   True   True\n",
      "          w         x         y         z\n",
      "a  2.706850  0.628133  0.907969  0.503826\n",
      "b  0.651118       NaN       NaN  0.605965\n",
      "c       NaN  0.740122  0.528813       NaN\n",
      "d  0.188695       NaN       NaN  0.955057\n",
      "e  0.190794  1.978757  2.605967  0.683509\n",
      "          w         x         y         z\n",
      "a  2.706850  0.628133  0.907969  0.503826\n",
      "b  0.651118       NaN       NaN  0.605965\n",
      "c       NaN  0.740122  0.528813       NaN\n",
      "d  0.188695       NaN       NaN  0.955057\n",
      "e  0.190794  1.978757  2.605967  0.683509\n"
     ]
    }
   ],
   "metadata": {}
  },
  {
   "cell_type": "code",
   "execution_count": 17,
   "source": [
    "#conditional selection based on rows\r\n",
    "print(df['w'] > 0)#this will return a bool series\r\n",
    "print(df[df['w']>0])# this will return the dataframe with rows that satisfy the condition, no NaN will be returned"
   ],
   "outputs": [
    {
     "output_type": "stream",
     "name": "stdout",
     "text": [
      "a     True\n",
      "b     True\n",
      "c    False\n",
      "d     True\n",
      "e     True\n",
      "Name: w, dtype: bool\n",
      "          w         x         y         z\n",
      "a  2.706850  0.628133  0.907969  0.503826\n",
      "b  0.651118 -0.319318 -0.848077  0.605965\n",
      "d  0.188695 -0.758872 -0.933237  0.955057\n",
      "e  0.190794  1.978757  2.605967  0.683509\n"
     ]
    }
   ],
   "metadata": {}
  },
  {
   "cell_type": "code",
   "execution_count": 19,
   "source": [
    "#to perform more commands on the resulting dataframe \r\n",
    "\r\n",
    "#1\r\n",
    "resultdf = df[df['w']>0]\r\n",
    "print(resultdf['x'])\r\n",
    "\r\n",
    "                            #both yeild the same result but there are 2 ways to do it\r\n",
    "\r\n",
    "#2\r\n",
    "print(df[df['w']>0]['x'])"
   ],
   "outputs": [
    {
     "output_type": "stream",
     "name": "stdout",
     "text": [
      "a    0.628133\n",
      "b   -0.319318\n",
      "d   -0.758872\n",
      "e    1.978757\n",
      "Name: x, dtype: float64\n",
      "a    0.628133\n",
      "b   -0.319318\n",
      "d   -0.758872\n",
      "e    1.978757\n",
      "Name: x, dtype: float64\n"
     ]
    }
   ],
   "metadata": {}
  },
  {
   "cell_type": "code",
   "execution_count": 25,
   "source": [
    "#for multiple conditional selection, we have to use &, | as and, or respectively\r\n",
    "print(df[(df['w']>0) & (df['y']>0)])\r\n",
    "print(df[(df['w']>1) | (df['x']>1)])"
   ],
   "outputs": [
    {
     "output_type": "stream",
     "name": "stdout",
     "text": [
      "          w         x         y         z\n",
      "a  2.706850  0.628133  0.907969  0.503826\n",
      "e  0.190794  1.978757  2.605967  0.683509\n",
      "          w         x         y         z\n",
      "a  2.706850  0.628133  0.907969  0.503826\n",
      "e  0.190794  1.978757  2.605967  0.683509\n"
     ]
    }
   ],
   "metadata": {}
  },
  {
   "cell_type": "code",
   "execution_count": 26,
   "source": [
    "#to reset the index of a dataframe to 0,1,2... use reset_index() and the old index values will now be stored in a new column named index\r\n",
    "df.reset_index()#to commit this change to the og dataframe, inplace=True needs to be passed to the function"
   ],
   "outputs": [
    {
     "output_type": "execute_result",
     "data": {
      "text/html": [
       "<div>\n",
       "<style scoped>\n",
       "    .dataframe tbody tr th:only-of-type {\n",
       "        vertical-align: middle;\n",
       "    }\n",
       "\n",
       "    .dataframe tbody tr th {\n",
       "        vertical-align: top;\n",
       "    }\n",
       "\n",
       "    .dataframe thead th {\n",
       "        text-align: right;\n",
       "    }\n",
       "</style>\n",
       "<table border=\"1\" class=\"dataframe\">\n",
       "  <thead>\n",
       "    <tr style=\"text-align: right;\">\n",
       "      <th></th>\n",
       "      <th>index</th>\n",
       "      <th>w</th>\n",
       "      <th>x</th>\n",
       "      <th>y</th>\n",
       "      <th>z</th>\n",
       "    </tr>\n",
       "  </thead>\n",
       "  <tbody>\n",
       "    <tr>\n",
       "      <th>0</th>\n",
       "      <td>a</td>\n",
       "      <td>2.706850</td>\n",
       "      <td>0.628133</td>\n",
       "      <td>0.907969</td>\n",
       "      <td>0.503826</td>\n",
       "    </tr>\n",
       "    <tr>\n",
       "      <th>1</th>\n",
       "      <td>b</td>\n",
       "      <td>0.651118</td>\n",
       "      <td>-0.319318</td>\n",
       "      <td>-0.848077</td>\n",
       "      <td>0.605965</td>\n",
       "    </tr>\n",
       "    <tr>\n",
       "      <th>2</th>\n",
       "      <td>c</td>\n",
       "      <td>-2.018168</td>\n",
       "      <td>0.740122</td>\n",
       "      <td>0.528813</td>\n",
       "      <td>-0.589001</td>\n",
       "    </tr>\n",
       "    <tr>\n",
       "      <th>3</th>\n",
       "      <td>d</td>\n",
       "      <td>0.188695</td>\n",
       "      <td>-0.758872</td>\n",
       "      <td>-0.933237</td>\n",
       "      <td>0.955057</td>\n",
       "    </tr>\n",
       "    <tr>\n",
       "      <th>4</th>\n",
       "      <td>e</td>\n",
       "      <td>0.190794</td>\n",
       "      <td>1.978757</td>\n",
       "      <td>2.605967</td>\n",
       "      <td>0.683509</td>\n",
       "    </tr>\n",
       "  </tbody>\n",
       "</table>\n",
       "</div>"
      ],
      "text/plain": [
       "  index         w         x         y         z\n",
       "0     a  2.706850  0.628133  0.907969  0.503826\n",
       "1     b  0.651118 -0.319318 -0.848077  0.605965\n",
       "2     c -2.018168  0.740122  0.528813 -0.589001\n",
       "3     d  0.188695 -0.758872 -0.933237  0.955057\n",
       "4     e  0.190794  1.978757  2.605967  0.683509"
      ]
     },
     "metadata": {},
     "execution_count": 26
    }
   ],
   "metadata": {}
  },
  {
   "cell_type": "code",
   "execution_count": 31,
   "source": [
    "#to set a column as index and replace the old one\r\n",
    "newind = 'CA NY WY OR CO'.split()\r\n",
    "df['States'] = newind\r\n",
    "print(df.set_index('States'))#this change is not commited to the og dataframe\r\n",
    "print(df)\r\n",
    "\r\n"
   ],
   "outputs": [
    {
     "output_type": "stream",
     "name": "stdout",
     "text": [
      "               w         x         y         z\n",
      "States                                        \n",
      "CA      2.706850  0.628133  0.907969  0.503826\n",
      "NY      0.651118 -0.319318 -0.848077  0.605965\n",
      "WY     -2.018168  0.740122  0.528813 -0.589001\n",
      "OR      0.188695 -0.758872 -0.933237  0.955057\n",
      "CO      0.190794  1.978757  2.605967  0.683509\n",
      "          w         x         y         z States\n",
      "a  2.706850  0.628133  0.907969  0.503826     CA\n",
      "b  0.651118 -0.319318 -0.848077  0.605965     NY\n",
      "c -2.018168  0.740122  0.528813 -0.589001     WY\n",
      "d  0.188695 -0.758872 -0.933237  0.955057     OR\n",
      "e  0.190794  1.978757  2.605967  0.683509     CO\n"
     ]
    }
   ],
   "metadata": {}
  },
  {
   "cell_type": "code",
   "execution_count": null,
   "source": [],
   "outputs": [],
   "metadata": {}
  }
 ],
 "metadata": {
  "orig_nbformat": 4,
  "language_info": {
   "name": "python",
   "version": "3.8.6",
   "mimetype": "text/x-python",
   "codemirror_mode": {
    "name": "ipython",
    "version": 3
   },
   "pygments_lexer": "ipython3",
   "nbconvert_exporter": "python",
   "file_extension": ".py"
  },
  "kernelspec": {
   "name": "python3",
   "display_name": "Python 3.8.6 64-bit"
  },
  "interpreter": {
   "hash": "e80646569bd54f86fe48343ac154290a039be7f6de5a78a4104fb747a8f9dae3"
  }
 },
 "nbformat": 4,
 "nbformat_minor": 2
}