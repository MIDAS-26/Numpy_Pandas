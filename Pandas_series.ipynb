{
 "cells": [
  {
   "cell_type": "code",
   "execution_count": 3,
   "source": [
    "import pandas as pd\r\n",
    "import numpy as np"
   ],
   "outputs": [],
   "metadata": {}
  },
  {
   "cell_type": "code",
   "execution_count": 4,
   "source": [
    "labels = ['a', 'b', 'c']\r\n",
    "my_data = [10, 20, 30]\r\n",
    "arr = np.array(my_data)\r\n",
    "d = {'a': 10, 'b': 20, 'c': 30}\r\n"
   ],
   "outputs": [],
   "metadata": {}
  },
  {
   "cell_type": "code",
   "execution_count": 11,
   "source": [
    "#using Series() method of pandas\r\n",
    "print(pd.Series(data=my_data))\r\n",
    "\r\n",
    "#using custom index for Series() method\r\n",
    "print(pd.Series(data=my_data, index=labels))\r\n",
    "\r\n",
    "#using Series() for printing dictionary\r\n",
    "print(pd.Series(d))"
   ],
   "outputs": [
    {
     "output_type": "stream",
     "name": "stdout",
     "text": [
      "0    10\n",
      "1    20\n",
      "2    30\n",
      "dtype: int64\n",
      "a    10\n",
      "b    20\n",
      "c    30\n",
      "dtype: int64\n",
      "a    10\n",
      "b    20\n",
      "c    30\n",
      "dtype: int64\n"
     ]
    }
   ],
   "metadata": {}
  },
  {
   "cell_type": "code",
   "execution_count": 14,
   "source": [
    "ser1 = pd.Series([1,2,3,4], ['USA','GERMANY','USSR','RUSSIA'])\r\n",
    "ser2 = pd.Series([1,2,5,4], ['USA','GERMANY','ITALY','RUSSIA'])\r\n",
    "print(ser1)\r\n",
    "print(ser2)"
   ],
   "outputs": [
    {
     "output_type": "stream",
     "name": "stdout",
     "text": [
      "USA        1\n",
      "GERMANY    2\n",
      "USSR       3\n",
      "RUSSIA     4\n",
      "dtype: int64\n",
      "USA        1\n",
      "GERMANY    2\n",
      "ITALY      5\n",
      "RUSSIA     4\n",
      "dtype: int64\n"
     ]
    }
   ],
   "metadata": {}
  },
  {
   "cell_type": "code",
   "execution_count": 16,
   "source": [
    "#on adding pd series, all the matching index values are added, rest get nan, type changes from int to float \r\n",
    "ser1 + ser2"
   ],
   "outputs": [
    {
     "output_type": "execute_result",
     "data": {
      "text/plain": [
       "GERMANY    4.0\n",
       "ITALY      NaN\n",
       "RUSSIA     8.0\n",
       "USA        2.0\n",
       "USSR       NaN\n",
       "dtype: float64"
      ]
     },
     "metadata": {},
     "execution_count": 16
    }
   ],
   "metadata": {}
  },
  {
   "cell_type": "code",
   "execution_count": null,
   "source": [],
   "outputs": [],
   "metadata": {}
  }
 ],
 "metadata": {
  "orig_nbformat": 4,
  "language_info": {
   "name": "python",
   "version": "3.8.6",
   "mimetype": "text/x-python",
   "codemirror_mode": {
    "name": "ipython",
    "version": 3
   },
   "pygments_lexer": "ipython3",
   "nbconvert_exporter": "python",
   "file_extension": ".py"
  },
  "kernelspec": {
   "name": "python3",
   "display_name": "Python 3.8.6 64-bit"
  },
  "interpreter": {
   "hash": "e80646569bd54f86fe48343ac154290a039be7f6de5a78a4104fb747a8f9dae3"
  }
 },
 "nbformat": 4,
 "nbformat_minor": 2
}