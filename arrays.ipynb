{
 "cells": [
  {
   "cell_type": "code",
   "execution_count": 2,
   "source": [
    "import numpy as np"
   ],
   "outputs": [],
   "metadata": {}
  },
  {
   "cell_type": "code",
   "execution_count": 3,
   "source": [
    "#list to array\r\n",
    "lst = [1, 2, 3]\r\n",
    "arr = np.array(lst)\r\n",
    "print(arr,\"\\n\")\r\n"
   ],
   "outputs": [
    {
     "output_type": "stream",
     "name": "stdout",
     "text": [
      "[1 2 3] \n",
      "\n"
     ]
    }
   ],
   "metadata": {}
  },
  {
   "cell_type": "code",
   "execution_count": 4,
   "source": [
    "#array of a range\r\n",
    "print(np.arange(0,10), \"\\n\")\r\n",
    "print(np.arange(0,10,2), \"\\n\")\r\n"
   ],
   "outputs": [
    {
     "output_type": "stream",
     "name": "stdout",
     "text": [
      "[0 1 2 3 4 5 6 7 8 9] \n",
      "\n",
      "[0 2 4 6 8] \n",
      "\n"
     ]
    }
   ],
   "metadata": {}
  },
  {
   "cell_type": "code",
   "execution_count": 5,
   "source": [
    "#array of any number, \"zeros can be replaced by ones, twos.....\"\r\n",
    "print(np.zeros(5), \"\\n\")\r\n",
    "print(np.zeros((2,5)), \"\\n\")\r\n"
   ],
   "outputs": [
    {
     "output_type": "stream",
     "name": "stdout",
     "text": [
      "[0. 0. 0. 0. 0.] \n",
      "\n",
      "[[0. 0. 0. 0. 0.]\n",
      " [0. 0. 0. 0. 0.]] \n",
      "\n"
     ]
    }
   ],
   "metadata": {}
  },
  {
   "cell_type": "code",
   "execution_count": 6,
   "source": [
    "#linspace to get array evenly spaced arrays between 2 numbers\r\n",
    "print(np.linspace(2,10,4), \"\\n\")\r\n"
   ],
   "outputs": [
    {
     "output_type": "stream",
     "name": "stdout",
     "text": [
      "[ 2.          4.66666667  7.33333333 10.        ] \n",
      "\n"
     ]
    }
   ],
   "metadata": {}
  },
  {
   "cell_type": "code",
   "execution_count": 7,
   "source": [
    "#identity matrix using eye()\r\n",
    "print(np.eye(5), \"\\n\")\r\n"
   ],
   "outputs": [
    {
     "output_type": "stream",
     "name": "stdout",
     "text": [
      "[[1. 0. 0. 0. 0.]\n",
      " [0. 1. 0. 0. 0.]\n",
      " [0. 0. 1. 0. 0.]\n",
      " [0. 0. 0. 1. 0.]\n",
      " [0. 0. 0. 0. 1.]] \n",
      "\n"
     ]
    }
   ],
   "metadata": {}
  },
  {
   "cell_type": "code",
   "execution_count": 21,
   "source": [
    "#to get a random integer, (inclusive, exclusive, number of ints)\r\n",
    "rarr = np.random.randint(1,50, 25)\r\n",
    "print(rarr)\r\n",
    "newrarr = rarr.reshape(5,5)\r\n",
    "newrarr\r\n"
   ],
   "outputs": [
    {
     "output_type": "stream",
     "name": "stdout",
     "text": [
      "[46 25 23  9  4  1 35 47  7 18 32 18 39 49 18 49 45 36 36 35 12 10 31 14\n",
      " 41]\n"
     ]
    },
    {
     "output_type": "execute_result",
     "data": {
      "text/plain": [
       "array([[46, 25, 23,  9,  4],\n",
       "       [ 1, 35, 47,  7, 18],\n",
       "       [32, 18, 39, 49, 18],\n",
       "       [49, 45, 36, 36, 35],\n",
       "       [12, 10, 31, 14, 41]])"
      ]
     },
     "metadata": {},
     "execution_count": 21
    }
   ],
   "metadata": {}
  },
  {
   "cell_type": "code",
   "execution_count": 12,
   "source": [
    "#useful functions\r\n",
    "print(\"max: \", rarr.max(), \"   max index: \", rarr.argmax(), \"\\n\", \"min: \", rarr.min(), \"  min index: \", rarr.argmin())"
   ],
   "outputs": [
    {
     "output_type": "stream",
     "name": "stdout",
     "text": [
      "max:  49    max index:  12 \n",
      " min:  9   min index:  10\n"
     ]
    }
   ],
   "metadata": {}
  },
  {
   "cell_type": "code",
   "execution_count": 13,
   "source": [
    "rarr[:4]"
   ],
   "outputs": [
    {
     "output_type": "execute_result",
     "data": {
      "text/plain": [
       "array([11, 13, 13, 34])"
      ]
     },
     "metadata": {},
     "execution_count": 13
    }
   ],
   "metadata": {}
  },
  {
   "cell_type": "code",
   "execution_count": 16,
   "source": [
    "#in numpy, a slice of an array is not a copy, it's a view of the original array, so any changes in the sliced array will be applied in the og array too\r\n",
    "narr = np.random.randint(0,100,10)\r\n",
    "slicearr = narr[0:3]\r\n",
    "slicearr[:] = 8\r\n",
    "print(\"sliced array: \", slicearr, \"\\n\", \"original array: \", narr)\r\n",
    "\r\n",
    "#to make a copy of an array use copy()\r\n",
    "narr_c = narr.copy()\r\n",
    "narr_c[:] = 11\r\n",
    "print(\"copied array: \", narr_c, \"\\n\", \"original array: \", narr)\r\n"
   ],
   "outputs": [
    {
     "output_type": "stream",
     "name": "stdout",
     "text": [
      "sliced array:  [8 8 8] \n",
      " original array:  [ 8  8  8 80 58 54 98 50 81 73]\n",
      "copied array:  [11 11 11 11 11 11 11 11 11 11] \n",
      " original array:  [ 8  8  8 80 58 54 98 50 81 73]\n"
     ]
    }
   ],
   "metadata": {}
  },
  {
   "cell_type": "code",
   "execution_count": 25,
   "source": [
    "#grabbing elements from 2d array\r\n",
    "print(newrarr)\r\n",
    "print(newrarr[0][2])\r\n",
    "print(newrarr[0,2])\r\n",
    "print(newrarr[:3,2:])"
   ],
   "outputs": [
    {
     "output_type": "stream",
     "name": "stdout",
     "text": [
      "[[46 25 23  9  4]\n",
      " [ 1 35 47  7 18]\n",
      " [32 18 39 49 18]\n",
      " [49 45 36 36 35]\n",
      " [12 10 31 14 41]]\n",
      "23\n",
      "23\n",
      "[[23  9  4]\n",
      " [47  7 18]\n",
      " [39 49 18]]\n"
     ]
    }
   ],
   "metadata": {}
  },
  {
   "cell_type": "code",
   "execution_count": 29,
   "source": [
    "#checking if elements pass a condition, next is to pass the condition itself in the array [] in order to get those elements which pass the condition\r\n",
    "print(rarr > 25)\r\n",
    "print(rarr[rarr > 25])"
   ],
   "outputs": [
    {
     "output_type": "stream",
     "name": "stdout",
     "text": [
      "[ True False False False False False  True  True False False  True False\n",
      "  True  True False  True  True  True  True  True False False  True False\n",
      "  True]\n",
      "[46 35 47 32 39 49 49 45 36 36 35 31 41]\n"
     ]
    }
   ],
   "metadata": {}
  },
  {
   "cell_type": "code",
   "execution_count": 37,
   "source": [
    "#array operations(+,-,*,/, **(exponent), sqrt())\r\n",
    "print(rarr + rarr)\r\n",
    "print(rarr - rarr)\r\n",
    "print(rarr * rarr)\r\n",
    "print(rarr / rarr)\r\n",
    "print(rarr ** 2)\r\n",
    "print(rarr.sqrt())"
   ],
   "outputs": [
    {
     "output_type": "stream",
     "name": "stdout",
     "text": [
      "[92 50 46 18  8  2 70 94 14 36 64 36 78 98 36 98 90 72 72 70 24 20 62 28\n",
      " 82]\n",
      "[0 0 0 0 0 0 0 0 0 0 0 0 0 0 0 0 0 0 0 0 0 0 0 0 0]\n",
      "[2116  625  529   81   16    1 1225 2209   49  324 1024  324 1521 2401\n",
      "  324 2401 2025 1296 1296 1225  144  100  961  196 1681]\n",
      "[1. 1. 1. 1. 1. 1. 1. 1. 1. 1. 1. 1. 1. 1. 1. 1. 1. 1. 1. 1. 1. 1. 1. 1.\n",
      " 1.]\n",
      "[2116  625  529   81   16    1 1225 2209   49  324 1024  324 1521 2401\n",
      "  324 2401 2025 1296 1296 1225  144  100  961  196 1681]\n"
     ]
    }
   ],
   "metadata": {}
  },
  {
   "cell_type": "code",
   "execution_count": 35,
   "source": [
    "#changing every element by some operation(+, -, *, /, **(exponent), sqrt(), sin(), log())\r\n",
    "print(rarr)\r\n",
    "print(rarr + 100)\r\n"
   ],
   "outputs": [
    {
     "output_type": "stream",
     "name": "stdout",
     "text": [
      "[46 25 23  9  4  1 35 47  7 18 32 18 39 49 18 49 45 36 36 35 12 10 31 14\n",
      " 41]\n",
      "[146 125 123 109 104 101 135 147 107 118 132 118 139 149 118 149 145 136\n",
      " 136 135 112 110 131 114 141]\n"
     ]
    }
   ],
   "metadata": {}
  },
  {
   "cell_type": "code",
   "execution_count": 36,
   "source": [
    "#in python /0 is an error but numpy will give a warning and still give an output\r\n",
    "print(rarr/0)"
   ],
   "outputs": [
    {
     "output_type": "stream",
     "name": "stdout",
     "text": [
      "[inf inf inf inf inf inf inf inf inf inf inf inf inf inf inf inf inf inf\n",
      " inf inf inf inf inf inf inf]\n"
     ]
    },
    {
     "output_type": "stream",
     "name": "stderr",
     "text": [
      "<ipython-input-36-00a6d39c5956>:2: RuntimeWarning: divide by zero encountered in true_divide\n",
      "  print(rarr/0)\n"
     ]
    }
   ],
   "metadata": {}
  },
  {
   "cell_type": "code",
   "execution_count": null,
   "source": [],
   "outputs": [],
   "metadata": {}
  }
 ],
 "metadata": {
  "orig_nbformat": 4,
  "language_info": {
   "name": "python",
   "version": "3.8.6",
   "mimetype": "text/x-python",
   "codemirror_mode": {
    "name": "ipython",
    "version": 3
   },
   "pygments_lexer": "ipython3",
   "nbconvert_exporter": "python",
   "file_extension": ".py"
  },
  "kernelspec": {
   "name": "python3",
   "display_name": "Python 3.8.6 64-bit (windows store)"
  },
  "interpreter": {
   "hash": "d1e5dce807e2a25f4c4b4c13e1f255c94255f88a2b6aa55dcf2104791a8ceaf2"
  }
 },
 "nbformat": 4,
 "nbformat_minor": 2
}